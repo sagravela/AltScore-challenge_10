{
 "cells": [
  {
   "cell_type": "code",
   "execution_count": 1,
   "metadata": {},
   "outputs": [],
   "source": [
    "import gc\n",
    "import sys\n",
    "from pathlib import Path\n",
    "\n",
    "import pandas as pd\n",
    "import polars as pl\n",
    "import h3\n",
    "import matplotlib.pyplot as plt\n",
    "import seaborn as sns\n",
    "\n",
    "# Add the project root to sys.path\n",
    "root_path = Path().resolve().parent\n",
    "sys.path.append(str(root_path))\n",
    "\n",
    "# Load variables\n",
    "from scripts import RAW_DATA_DIR, PROCESSED_DATA_DIR, TRAIN_FILE, TEST_FILE, MOBILITY_FILE"
   ]
  },
  {
   "cell_type": "code",
   "execution_count": 2,
   "metadata": {},
   "outputs": [
    {
     "name": "stdout",
     "output_type": "stream",
     "text": [
      "Train shape:  (510, 2)\n",
      "Test shape:  (511, 2)\n",
      "Mobility shape:  (340411133, 4)\n",
      "Train dataset head: shape: (5, 2)\n",
      "┌─────────────────┬────────────────┐\n",
      "│ hex_id          ┆ cost_of_living │\n",
      "│ ---             ┆ ---            │\n",
      "│ str             ┆ f64            │\n",
      "╞═════════════════╪════════════════╡\n",
      "│ 8866d338abfffff ┆ 0.372854       │\n",
      "│ 8866d331b1fffff ┆ 0.424494       │\n",
      "│ 888f2e3b4dfffff ┆ 0.414815       │\n",
      "│ 888f2b9ae5fffff ┆ 0.687205       │\n",
      "│ 8866d32363fffff ┆ 0.482482       │\n",
      "└─────────────────┴────────────────┘\n",
      "Test dataset head: shape: (5, 2)\n",
      "┌─────────────────┬────────────────┐\n",
      "│ hex_id          ┆ cost_of_living │\n",
      "│ ---             ┆ ---            │\n",
      "│ str             ┆ str            │\n",
      "╞═════════════════╪════════════════╡\n",
      "│ 888f2b983dfffff ┆ null           │\n",
      "│ 888f2864b7fffff ┆ null           │\n",
      "│ 8866d33813fffff ┆ null           │\n",
      "│ 888f0d9acdfffff ┆ null           │\n",
      "│ 8866d33a03fffff ┆ null           │\n",
      "└─────────────────┴────────────────┘\n",
      "Mobility dataset head: shape: (5, 4)\n",
      "┌───────────┬───────────┬────────────┬────────────┐\n",
      "│ device_id ┆ lat       ┆ lon        ┆ timestamp  │\n",
      "│ ---       ┆ ---       ┆ ---        ┆ ---        │\n",
      "│ i32       ┆ f64       ┆ f64        ┆ i64        │\n",
      "╞═══════════╪═══════════╪════════════╪════════════╡\n",
      "│ 254207    ┆ -0.313305 ┆ -78.536396 ┆ 1546315466 │\n",
      "│ 254207    ┆ -0.31339  ┆ -78.536236 ┆ 1546313658 │\n",
      "│ 254207    ┆ -0.313367 ┆ -78.536283 ┆ 1546313979 │\n",
      "│ 254207    ┆ -0.313377 ┆ -78.53627  ┆ 1546314281 │\n",
      "│ 254207    ┆ -0.313367 ┆ -78.536266 ┆ 1546315113 │\n",
      "└───────────┴───────────┴────────────┴────────────┘\n"
     ]
    }
   ],
   "source": [
    "raw_train = pl.read_csv(RAW_DATA_DIR / TRAIN_FILE)\n",
    "raw_test = pl.read_csv(RAW_DATA_DIR / TEST_FILE)\n",
    "# Scan mobility data because is huge\n",
    "raw_mobility_scan = pl.scan_parquet(RAW_DATA_DIR / MOBILITY_FILE)\n",
    "print(\"Train shape: \", raw_train.shape)\n",
    "print(\"Test shape: \", raw_test.shape)\n",
    "print(\"Mobility shape: \", (raw_mobility_scan.select(pl.len()).collect()[0,0], len(raw_mobility_scan.collect_schema())))\n",
    "print(\"Train dataset head:\", raw_train.head())\n",
    "print(\"Test dataset head:\", raw_test.head())\n",
    "print(\"Mobility dataset head:\", raw_mobility_scan.head().collect())"
   ]
  },
  {
   "cell_type": "markdown",
   "metadata": {},
   "source": [
    "# Data types"
   ]
  },
  {
   "cell_type": "code",
   "execution_count": 3,
   "metadata": {},
   "outputs": [
    {
     "name": "stdout",
     "output_type": "stream",
     "text": [
      "Train dataset schema:\n",
      "Schema([('hex_id', String), ('cost_of_living', Float64)])\n",
      "Test dataset schema:\n",
      "Schema([('hex_id', String), ('cost_of_living', String)])\n",
      "Mobility dataset schema:\n",
      "Schema([('device_id', Int32), ('lat', Float64), ('lon', Float64), ('timestamp', Int64)])\n"
     ]
    }
   ],
   "source": [
    "print(\"Train dataset schema:\")\n",
    "print(raw_train.schema)\n",
    "\n",
    "print(\"Test dataset schema:\")\n",
    "print(raw_test.schema)\n",
    "\n",
    "print(\"Mobility dataset schema:\")\n",
    "print(raw_mobility_scan.collect_schema())"
   ]
  },
  {
   "cell_type": "code",
   "execution_count": 4,
   "metadata": {},
   "outputs": [
    {
     "name": "stdout",
     "output_type": "stream",
     "text": [
      "Resolution of hex grid is:  8\n"
     ]
    }
   ],
   "source": [
    "sample_hex = raw_train.select(pl.col('hex_id'))[0,0]\n",
    "resolution = h3.get_resolution(sample_hex)\n",
    "print(\"Resolution of hex grid is: \", resolution)"
   ]
  },
  {
   "cell_type": "code",
   "execution_count": 5,
   "metadata": {},
   "outputs": [
    {
     "data": {
      "text/plain": [
       "0"
      ]
     },
     "execution_count": 5,
     "metadata": {},
     "output_type": "execute_result"
    }
   ],
   "source": [
    "del raw_test, raw_mobility_scan\n",
    "gc.collect()"
   ]
  },
  {
   "cell_type": "markdown",
   "metadata": {},
   "source": [
    "# Feature Description"
   ]
  },
  {
   "cell_type": "code",
   "execution_count": 6,
   "metadata": {},
   "outputs": [
    {
     "name": "stdout",
     "output_type": "stream",
     "text": [
      "shape: (9, 2)\n",
      "┌────────────┬───────────────┐\n",
      "│ statistic  ┆ device_id     │\n",
      "│ ---        ┆ ---           │\n",
      "│ str        ┆ f64           │\n",
      "╞════════════╪═══════════════╡\n",
      "│ count      ┆ 3.40411133e8  │\n",
      "│ null_count ┆ 0.0           │\n",
      "│ mean       ┆ 1.0480e6      │\n",
      "│ std        ┆ 603982.168434 │\n",
      "│ min        ┆ 1.0           │\n",
      "│ 25%        ┆ 525423.0      │\n",
      "│ 50%        ┆ 1.048482e6    │\n",
      "│ 75%        ┆ 1.564597e6    │\n",
      "│ max        ┆ 2.104254e6    │\n",
      "└────────────┴───────────────┘\n",
      "shape: (1, 1)\n",
      "┌─────────────────────────────┐\n",
      "│ Number of uniques device_id │\n",
      "│ ---                         │\n",
      "│ u32                         │\n",
      "╞═════════════════════════════╡\n",
      "│ 2091079                     │\n",
      "└─────────────────────────────┘\n",
      "shape: (9, 2)\n",
      "┌────────────┬──────────────┐\n",
      "│ statistic  ┆ lat          │\n",
      "│ ---        ┆ ---          │\n",
      "│ str        ┆ f64          │\n",
      "╞════════════╪══════════════╡\n",
      "│ count      ┆ 3.40411133e8 │\n",
      "│ null_count ┆ 0.0          │\n",
      "│ mean       ┆ -1.317196    │\n",
      "│ std        ┆ 1.121266     │\n",
      "│ min        ┆ -4.222872    │\n",
      "│ 25%        ┆ -2.190808    │\n",
      "│ 50%        ┆ -1.668331    │\n",
      "│ 75%        ┆ -0.192885    │\n",
      "│ max        ┆ 0.820456     │\n",
      "└────────────┴──────────────┘\n",
      "shape: (1, 1)\n",
      "┌───────────────────────┐\n",
      "│ Number of uniques lat │\n",
      "│ ---                   │\n",
      "│ u32                   │\n",
      "╞═══════════════════════╡\n",
      "│ 787847                │\n",
      "└───────────────────────┘\n",
      "shape: (9, 2)\n",
      "┌────────────┬──────────────┐\n",
      "│ statistic  ┆ lon          │\n",
      "│ ---        ┆ ---          │\n",
      "│ str        ┆ f64          │\n",
      "╞════════════╪══════════════╡\n",
      "│ count      ┆ 3.40411133e8 │\n",
      "│ null_count ┆ 0.0          │\n",
      "│ mean       ┆ -79.201988   │\n",
      "│ std        ┆ 0.718929     │\n",
      "│ min        ┆ -80.947302   │\n",
      "│ 25%        ┆ -79.904613   │\n",
      "│ 50%        ┆ -79.009407   │\n",
      "│ 75%        ┆ -78.493462   │\n",
      "│ max        ┆ -77.714085   │\n",
      "└────────────┴──────────────┘\n",
      "shape: (1, 1)\n",
      "┌───────────────────────┐\n",
      "│ Number of uniques lon │\n",
      "│ ---                   │\n",
      "│ u32                   │\n",
      "╞═══════════════════════╡\n",
      "│ 775515                │\n",
      "└───────────────────────┘\n",
      "shape: (9, 2)\n",
      "┌────────────┬──────────────┐\n",
      "│ statistic  ┆ timestamp    │\n",
      "│ ---        ┆ ---          │\n",
      "│ str        ┆ f64          │\n",
      "╞════════════╪══════════════╡\n",
      "│ count      ┆ 3.40411133e8 │\n",
      "│ null_count ┆ 0.0          │\n",
      "│ mean       ┆ 1.6108e9     │\n",
      "│ std        ┆ 3.5521e7     │\n",
      "│ min        ┆ 1.5463e9     │\n",
      "│ 25%        ┆ 1.5823e9     │\n",
      "│ 50%        ┆ 1.6053e9     │\n",
      "│ 75%        ┆ 1.6395e9     │\n",
      "│ max        ┆ 1.6803e9     │\n",
      "└────────────┴──────────────┘\n",
      "shape: (1, 1)\n",
      "┌─────────────────────────────┐\n",
      "│ Number of uniques timestamp │\n",
      "│ ---                         │\n",
      "│ u32                         │\n",
      "╞═════════════════════════════╡\n",
      "│ 109466499                   │\n",
      "└─────────────────────────────┘\n"
     ]
    }
   ],
   "source": [
    "mobility_scan = pl.scan_parquet(RAW_DATA_DIR / MOBILITY_FILE)\n",
    "\n",
    "# Because this operation involves to use the entire dataset, I will do it column by column\n",
    "for col in mobility_scan.collect_schema().names():\n",
    "    print(mobility_scan.select(col).describe())\n",
    "    print(mobility_scan.select(pl.col(col).approx_n_unique().alias(f\"Number of uniques {col}\")).collect(streaming=True))"
   ]
  },
  {
   "cell_type": "code",
   "execution_count": 7,
   "metadata": {},
   "outputs": [
    {
     "data": {
      "text/plain": [
       "0"
      ]
     },
     "execution_count": 7,
     "metadata": {},
     "output_type": "execute_result"
    }
   ],
   "source": [
    "del raw_train\n",
    "gc.collect()"
   ]
  },
  {
   "cell_type": "markdown",
   "metadata": {},
   "source": [
    "# Mobility Analysis"
   ]
  },
  {
   "cell_type": "code",
   "execution_count": 8,
   "metadata": {},
   "outputs": [],
   "source": [
    "processed_ms = pl.scan_parquet(PROCESSED_DATA_DIR, MOBILITY_FILE)\n",
    "\n",
    "# Generate breakpoints for each month in 2021\n",
    "min_timestamp = processed_ms.select('timestamp').min().collect()\n",
    "max_timestamp = processed_ms.select('timestamp').max().collect()\n",
    "breakpoints = pd.date_range(start=min_timestamp[0,0], end=max_timestamp[0,0], freq='ME').tolist()\n",
    "\n",
    "# Transform breakpoints back to Unix\n",
    "breakpoints = [int(bp.timestamp()) for bp in breakpoints]"
   ]
  },
  {
   "cell_type": "code",
   "execution_count": 9,
   "metadata": {},
   "outputs": [
    {
     "ename": "",
     "evalue": "",
     "output_type": "error",
     "traceback": [
      "\u001b[1;31mThe Kernel crashed while executing code in the current cell or a previous cell. \n",
      "\u001b[1;31mPlease review the code in the cell(s) to identify a possible cause of the failure. \n",
      "\u001b[1;31mClick <a href='https://aka.ms/vscodeJupyterKernelCrash'>here</a> for more info. \n",
      "\u001b[1;31mView Jupyter <a href='command:jupyter.viewOutput'>log</a> for further details."
     ]
    }
   ],
   "source": [
    "# Create a new column with the bucketed timestamps\n",
    "timestamp_buckets = processed_ms.select(\n",
    "    pl.col(\"timestamp\").cut(breakpoints).alias('timestamp_buckets')\n",
    ")\n",
    "\n",
    "# Collect the results to see the changes\n",
    "timestamp_dist = timestamp_buckets.group_by('timestamp_buckets').len(name=\"count\").collect(streaming=True)\n",
    "timestamp_dist = timestamp_dist.to_pandas()"
   ]
  },
  {
   "cell_type": "code",
   "execution_count": 12,
   "metadata": {},
   "outputs": [
    {
     "name": "stderr",
     "output_type": "stream",
     "text": [
      "/tmp/ipykernel_27111/4160097997.py:9: UserWarning: set_ticklabels() should only be used with a fixed number of ticks, i.e. after set_ticks() or using a FixedLocator.\n",
      "  plt.gca().set_xticklabels(labels, rotation=45)\n"
     ]
    },
    {
     "data": {
      "image/png": "[encoded data removed]",
      "text/plain": [
       "<Figure size 1200x400 with 1 Axes>"
      ]
     },
     "metadata": {},
     "output_type": "display_data"
    }
   ],
   "source": [
    "fig = plt.figure(figsize=(12, 4))\n",
    "sns.barplot(data=timestamp_dist, x='timestamp_buckets', y='count')\n",
    "plt.title(\"Timestamp distribution by month\")\n",
    "plt.xticks(rotation=45)\n",
    "plt.xlabel(\"Month\")\n",
    "plt.ylabel(\"Count\")\n",
    "# Map x labels to year/month based on buckets\n",
    "labels = ['' if i % 3 else pd.to_datetime(d, unit='s').strftime('%Y-%m') for i, d in enumerate(breakpoints)]\n",
    "plt.gca().set_xticklabels(labels, rotation=45)\n",
    "plt.show()"
   ]
  },
  {
   "cell_type": "code",
   "execution_count": 13,
   "metadata": {},
   "outputs": [
    {
     "data": {
      "text/plain": [
       "144"
      ]
     },
     "execution_count": 13,
     "metadata": {},
     "output_type": "execute_result"
    }
   ],
   "source": [
    "del processed_ms\n",
    "gc.collect()"
   ]
  }
 ],
 "metadata": {
  "kernelspec": {
   "display_name": ".venv",
   "language": "python",
   "name": "python3"
  },
  "language_info": {
   "codemirror_mode": {
    "name": "ipython",
    "version": 3
   },
   "file_extension": ".py",
   "mimetype": "text/x-python",
   "name": "python",
   "nbconvert_exporter": "python",
   "pygments_lexer": "ipython3",
   "version": "3.11.11"
  }
 },
 "nbformat": 4,
 "nbformat_minor": 2
}
