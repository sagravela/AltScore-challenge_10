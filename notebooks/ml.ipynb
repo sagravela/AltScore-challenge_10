{
 "cells": [
  {
   "cell_type": "code",
   "execution_count": null,
   "metadata": {},
   "outputs": [],
   "source": [
    "import sys\n",
    "from pathlib import Path\n",
    "\n",
    "import polars as pl\n",
    "import altair as alt\n",
    "from sklearn.model_selection import cross_val_score\n",
    "\n",
    "# Add the project root to sys.path\n",
    "root_path = Path().resolve().parent\n",
    "sys.path.append(str(root_path))\n",
    "\n",
    "# Load variables\n",
    "from scripts import PROCESSED_DATA_DIR, FULL_DATASET"
   ]
  },
  {
   "cell_type": "code",
   "execution_count": null,
   "metadata": {},
   "outputs": [],
   "source": []
  }
 ],
 "metadata": {
  "kernelspec": {
   "display_name": ".venv",
   "language": "python",
   "name": "python3"
  },
  "language_info": {
   "codemirror_mode": {
    "name": "ipython",
    "version": 3
   },
   "file_extension": ".py",
   "mimetype": "text/x-python",
   "name": "python",
   "nbconvert_exporter": "python",
   "pygments_lexer": "ipython3",
   "version": "3.11.11"
  }
 },
 "nbformat": 4,
 "nbformat_minor": 2
}
